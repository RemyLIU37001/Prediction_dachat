{
 "cells": [
  {
   "cell_type": "markdown",
   "metadata": {},
   "source": [
    "### la prédiction 'si le consommateur va cliquer le buy sur le site' en utilisant le jeu de données 'train'"
   ]
  },
  {
   "cell_type": "code",
   "execution_count": 11,
   "metadata": {},
   "outputs": [],
   "source": [
    "import pandas as pd\n",
    "import numpy as np\n",
    "from sklearn import preprocessing\n",
    "from sklearn import model_selection\n",
    "from sklearn.decomposition import PCA"
   ]
  },
  {
   "cell_type": "code",
   "execution_count": 12,
   "metadata": {},
   "outputs": [
    {
     "name": "stdout",
     "output_type": "stream",
     "text": [
      "(4107, 87)\n",
      "Index(['Id', 'V2', 'V3', 'V4', 'V5', 'V6', 'V7', 'V8', 'V9', 'V10', 'V11',\n",
      "       'V12', 'V13', 'V14', 'V15', 'V16', 'V17', 'V18', 'V19', 'V20', 'V21',\n",
      "       'V22', 'V23', 'V24', 'V25', 'V26', 'V27', 'V28', 'V29', 'V30', 'V31',\n",
      "       'V32', 'V33', 'V34', 'V35', 'V36', 'V37', 'V38', 'V39', 'V40', 'V41',\n",
      "       'V42', 'V43', 'V44', 'V45', 'V46', 'V47', 'V48', 'V49', 'V50', 'V51',\n",
      "       'V52', 'V53', 'V54', 'V55', 'V56', 'V57', 'V58', 'V59', 'V60', 'V61',\n",
      "       'V62', 'V63', 'V64', 'V65', 'V66', 'V67', 'V68', 'V69', 'V70', 'V71',\n",
      "       'V72', 'V73', 'V74', 'V75', 'V76', 'V77', 'V78', 'V79', 'V80', 'V81',\n",
      "       'V82', 'V83', 'V84', 'V85', 'V86', 'Buy'],\n",
      "      dtype='object')\n",
      "Id     int64\n",
      "V2     int64\n",
      "V3     int64\n",
      "V4     int64\n",
      "V5     int64\n",
      "       ...  \n",
      "V83    int64\n",
      "V84    int64\n",
      "V85    int64\n",
      "V86    int64\n",
      "Buy    int64\n",
      "Length: 87, dtype: object\n"
     ]
    }
   ],
   "source": [
    "train = pd.read_csv(\"train.csv\",sep=',')\n",
    "print(train.shape)\n",
    "print(train.columns)\n",
    "print(train.dtypes)"
   ]
  },
  {
   "cell_type": "code",
   "execution_count": 13,
   "metadata": {},
   "outputs": [
    {
     "data": {
      "text/html": [
       "<div>\n",
       "<style scoped>\n",
       "    .dataframe tbody tr th:only-of-type {\n",
       "        vertical-align: middle;\n",
       "    }\n",
       "\n",
       "    .dataframe tbody tr th {\n",
       "        vertical-align: top;\n",
       "    }\n",
       "\n",
       "    .dataframe thead th {\n",
       "        text-align: right;\n",
       "    }\n",
       "</style>\n",
       "<table border=\"1\" class=\"dataframe\">\n",
       "  <thead>\n",
       "    <tr style=\"text-align: right;\">\n",
       "      <th></th>\n",
       "      <th>Id</th>\n",
       "      <th>V2</th>\n",
       "      <th>V3</th>\n",
       "      <th>V4</th>\n",
       "      <th>V5</th>\n",
       "      <th>V6</th>\n",
       "      <th>V7</th>\n",
       "      <th>V8</th>\n",
       "      <th>V9</th>\n",
       "      <th>V10</th>\n",
       "      <th>...</th>\n",
       "      <th>V78</th>\n",
       "      <th>V79</th>\n",
       "      <th>V80</th>\n",
       "      <th>V81</th>\n",
       "      <th>V82</th>\n",
       "      <th>V83</th>\n",
       "      <th>V84</th>\n",
       "      <th>V85</th>\n",
       "      <th>V86</th>\n",
       "      <th>Buy</th>\n",
       "    </tr>\n",
       "  </thead>\n",
       "  <tbody>\n",
       "    <tr>\n",
       "      <th>0</th>\n",
       "      <td>1</td>\n",
       "      <td>33</td>\n",
       "      <td>1</td>\n",
       "      <td>3</td>\n",
       "      <td>2</td>\n",
       "      <td>8</td>\n",
       "      <td>0</td>\n",
       "      <td>5</td>\n",
       "      <td>1</td>\n",
       "      <td>3</td>\n",
       "      <td>...</td>\n",
       "      <td>0</td>\n",
       "      <td>0</td>\n",
       "      <td>0</td>\n",
       "      <td>1</td>\n",
       "      <td>0</td>\n",
       "      <td>0</td>\n",
       "      <td>0</td>\n",
       "      <td>0</td>\n",
       "      <td>0</td>\n",
       "      <td>0</td>\n",
       "    </tr>\n",
       "    <tr>\n",
       "      <th>1</th>\n",
       "      <td>2</td>\n",
       "      <td>37</td>\n",
       "      <td>1</td>\n",
       "      <td>2</td>\n",
       "      <td>2</td>\n",
       "      <td>8</td>\n",
       "      <td>1</td>\n",
       "      <td>4</td>\n",
       "      <td>1</td>\n",
       "      <td>4</td>\n",
       "      <td>...</td>\n",
       "      <td>0</td>\n",
       "      <td>0</td>\n",
       "      <td>0</td>\n",
       "      <td>1</td>\n",
       "      <td>0</td>\n",
       "      <td>0</td>\n",
       "      <td>0</td>\n",
       "      <td>0</td>\n",
       "      <td>0</td>\n",
       "      <td>0</td>\n",
       "    </tr>\n",
       "    <tr>\n",
       "      <th>2</th>\n",
       "      <td>3</td>\n",
       "      <td>37</td>\n",
       "      <td>1</td>\n",
       "      <td>2</td>\n",
       "      <td>2</td>\n",
       "      <td>8</td>\n",
       "      <td>0</td>\n",
       "      <td>4</td>\n",
       "      <td>2</td>\n",
       "      <td>4</td>\n",
       "      <td>...</td>\n",
       "      <td>0</td>\n",
       "      <td>0</td>\n",
       "      <td>0</td>\n",
       "      <td>1</td>\n",
       "      <td>0</td>\n",
       "      <td>0</td>\n",
       "      <td>0</td>\n",
       "      <td>0</td>\n",
       "      <td>0</td>\n",
       "      <td>0</td>\n",
       "    </tr>\n",
       "    <tr>\n",
       "      <th>3</th>\n",
       "      <td>4</td>\n",
       "      <td>9</td>\n",
       "      <td>1</td>\n",
       "      <td>3</td>\n",
       "      <td>3</td>\n",
       "      <td>3</td>\n",
       "      <td>2</td>\n",
       "      <td>3</td>\n",
       "      <td>2</td>\n",
       "      <td>4</td>\n",
       "      <td>...</td>\n",
       "      <td>0</td>\n",
       "      <td>0</td>\n",
       "      <td>0</td>\n",
       "      <td>1</td>\n",
       "      <td>0</td>\n",
       "      <td>0</td>\n",
       "      <td>0</td>\n",
       "      <td>0</td>\n",
       "      <td>0</td>\n",
       "      <td>0</td>\n",
       "    </tr>\n",
       "    <tr>\n",
       "      <th>4</th>\n",
       "      <td>6</td>\n",
       "      <td>23</td>\n",
       "      <td>1</td>\n",
       "      <td>2</td>\n",
       "      <td>1</td>\n",
       "      <td>5</td>\n",
       "      <td>0</td>\n",
       "      <td>5</td>\n",
       "      <td>0</td>\n",
       "      <td>5</td>\n",
       "      <td>...</td>\n",
       "      <td>0</td>\n",
       "      <td>0</td>\n",
       "      <td>0</td>\n",
       "      <td>0</td>\n",
       "      <td>0</td>\n",
       "      <td>0</td>\n",
       "      <td>0</td>\n",
       "      <td>0</td>\n",
       "      <td>0</td>\n",
       "      <td>0</td>\n",
       "    </tr>\n",
       "  </tbody>\n",
       "</table>\n",
       "<p>5 rows × 87 columns</p>\n",
       "</div>"
      ],
      "text/plain": [
       "   Id  V2  V3  V4  V5  V6  V7  V8  V9  V10  ...  V78  V79  V80  V81  V82  V83  \\\n",
       "0   1  33   1   3   2   8   0   5   1    3  ...    0    0    0    1    0    0   \n",
       "1   2  37   1   2   2   8   1   4   1    4  ...    0    0    0    1    0    0   \n",
       "2   3  37   1   2   2   8   0   4   2    4  ...    0    0    0    1    0    0   \n",
       "3   4   9   1   3   3   3   2   3   2    4  ...    0    0    0    1    0    0   \n",
       "4   6  23   1   2   1   5   0   5   0    5  ...    0    0    0    0    0    0   \n",
       "\n",
       "   V84  V85  V86  Buy  \n",
       "0    0    0    0    0  \n",
       "1    0    0    0    0  \n",
       "2    0    0    0    0  \n",
       "3    0    0    0    0  \n",
       "4    0    0    0    0  \n",
       "\n",
       "[5 rows x 87 columns]"
      ]
     },
     "execution_count": 13,
     "metadata": {},
     "output_type": "execute_result"
    }
   ],
   "source": [
    "train.head(5)"
   ]
  },
  {
   "cell_type": "code",
   "execution_count": 14,
   "metadata": {},
   "outputs": [
    {
     "name": "stdout",
     "output_type": "stream",
     "text": [
      "[[   1   33    1 ...    0    0    0]\n",
      " [   2   37    1 ...    0    0    0]\n",
      " [   3   37    1 ...    0    0    0]\n",
      " ...\n",
      " [5819   35    1 ...    0    0    0]\n",
      " [5820   33    1 ...    0    0    1]\n",
      " [5822   33    1 ...    0    0    0]]\n",
      "(4107, 87)\n",
      "(4107,)\n"
     ]
    }
   ],
   "source": [
    "#data1 = .to_numpy()\n",
    "data = train.to_numpy()\n",
    "print(data)\n",
    "data_x = data[:,0:87]\n",
    "data_y = data[:,-1]\n",
    "print(data_x.shape)\n",
    "print(data_y.shape)"
   ]
  },
  {
   "cell_type": "markdown",
   "metadata": {},
   "source": []
  },
  {
   "cell_type": "code",
   "execution_count": 15,
   "metadata": {},
   "outputs": [],
   "source": [
    "x_normalized = preprocessing.StandardScaler().fit_transform(data_x)\n",
    "x_train,x_test,y_train, y_test = model_selection.train_test_split(x_normalized,data_y,test_size =0.3,random_state = 0)\n",
    "pca = PCA(n_components = 80, whiten = True).fit(x_normalized)\n",
    "data_x_pca = pca.transform(x_normalized)\n",
    "x_train_pca,x_test_pca,y_train_pca, y_test_pca = model_selection.train_test_split(data_x_pca,data_y,test_size =0.3,\n",
    "                                                                                  random_state = 0)"
   ]
  },
  {
   "cell_type": "code",
   "execution_count": 16,
   "metadata": {},
   "outputs": [
    {
     "data": {
      "text/plain": [
       "(4107, 80)"
      ]
     },
     "execution_count": 16,
     "metadata": {},
     "output_type": "execute_result"
    }
   ],
   "source": [
    "data_x_pca.shape"
   ]
  },
  {
   "cell_type": "markdown",
   "metadata": {},
   "source": [
    "# Modele 0 SVM"
   ]
  },
  {
   "cell_type": "code",
   "execution_count": 17,
   "metadata": {},
   "outputs": [],
   "source": [
    "from sklearn.svm import SVC\n",
    "from sklearn.model_selection import GridSearchCV\n",
    "from sklearn import metrics"
   ]
  },
  {
   "cell_type": "code",
   "execution_count": 18,
   "metadata": {},
   "outputs": [
    {
     "data": {
      "text/plain": [
       "(1233, 80)"
      ]
     },
     "execution_count": 18,
     "metadata": {},
     "output_type": "execute_result"
    }
   ],
   "source": [
    "x_test_pca.shape"
   ]
  },
  {
   "cell_type": "code",
   "execution_count": 19,
   "metadata": {},
   "outputs": [
    {
     "data": {
      "text/plain": [
       "(2874, 80)"
      ]
     },
     "execution_count": 19,
     "metadata": {},
     "output_type": "execute_result"
    }
   ],
   "source": [
    "x_train_pca.shape"
   ]
  },
  {
   "cell_type": "code",
   "execution_count": 20,
   "metadata": {},
   "outputs": [
    {
     "name": "stdout",
     "output_type": "stream",
     "text": [
      "{'C': 0.1, 'kernel': 'linear'}\n",
      "0.0\n",
      "1.0\n"
     ]
    }
   ],
   "source": [
    "#parametre a tester - jouer sur les noyaux et le 'cost parameter'\n",
    "parametres = {\"kernel\": ['linear','poly'],\"C\":[0.1,0.5,1.0]}\n",
    "\n",
    "#classifieru a utiliser\n",
    "svmc = SVC()\n",
    "\n",
    "#instanciation de la recherche\n",
    "grille = GridSearchCV(estimator = svmc, param_grid = parametres,scoring = 'accuracy')\n",
    "\n",
    "#lancer  l'exploration\n",
    "resultats = grille.fit(x_train_pca,y_train_pca)\n",
    "\n",
    "#meilleur parametrage :{}\n",
    "print(resultats.best_params_)\n",
    "\n",
    "#prediction avec le meilleur modele identifie\n",
    "y_predc = resultats.predict(x_test_pca)\n",
    "\n",
    "#performances du meilleur modele \n",
    "err_best = 1.0 - metrics.accuracy_score(y_test_pca,y_predc)\n",
    "print(err_best)\n",
    "print(metrics.accuracy_score(y_test_pca,y_predc))"
   ]
  },
  {
   "cell_type": "code",
   "execution_count": 21,
   "metadata": {},
   "outputs": [
    {
     "data": {
      "text/plain": [
       "(1715, 86)"
      ]
     },
     "execution_count": 21,
     "metadata": {},
     "output_type": "execute_result"
    }
   ],
   "source": [
    "TEST = pd.read_csv(\"test.csv\",sep=',')\n",
    "TEST = TEST.to_numpy()\n",
    "TEST.shape"
   ]
  },
  {
   "cell_type": "code",
   "execution_count": 22,
   "metadata": {},
   "outputs": [
    {
     "name": "stdout",
     "output_type": "stream",
     "text": [
      "                 0             1             2             3             4   \\\n",
      "count  1.715000e+03  1.715000e+03  1.715000e+03  1.715000e+03  1.715000e+03   \n",
      "mean   1.373699e-16 -2.052132e-17  3.755985e-16 -7.334593e-17 -4.425355e-16   \n",
      "std    1.000292e+00  1.000292e+00  1.000292e+00  1.000292e+00  1.000292e+00   \n",
      "min   -1.745704e+00 -1.825436e+00 -2.678980e-01 -2.059487e+00 -2.400840e+00   \n",
      "25%   -8.682603e-01 -1.128658e+00 -2.678980e-01 -8.118642e-01 -1.198316e+00   \n",
      "50%    7.988521e-03  4.197369e-01 -2.678980e-01  4.357587e-01  4.207079e-03   \n",
      "75%    8.522706e-01  8.068356e-01 -2.678980e-01  4.357587e-01  4.207079e-03   \n",
      "max    1.729416e+00  1.271354e+00  1.769923e+01  2.931004e+00  3.611777e+00   \n",
      "\n",
      "                 5             6             7             8             9   \\\n",
      "count  1.715000e+03  1.715000e+03  1.715000e+03  1.715000e+03  1.715000e+03   \n",
      "mean  -4.000687e-17  3.802595e-16 -2.191962e-16  5.101200e-17  1.633290e-16   \n",
      "std    1.000292e+00  1.000292e+00  1.000292e+00  1.000292e+00  1.000292e+00   \n",
      "min   -1.686301e+00 -7.050009e-01 -2.818892e+00 -1.089112e+00 -2.032239e+00   \n",
      "25%   -9.901867e-01 -7.050009e-01 -3.935065e-01 -1.089112e+00 -7.678496e-01   \n",
      "50%    4.020414e-01 -7.050009e-01  2.128400e-01 -9.027402e-02 -1.356547e-01   \n",
      "75%    7.500984e-01  2.860455e-01  8.191865e-01  9.085644e-01  4.965403e-01   \n",
      "max    1.446212e+00  8.214417e+00  2.638226e+00  3.905080e+00  3.657515e+00   \n",
      "\n",
      "       ...            76            77            78            79  \\\n",
      "count  ...  1.715000e+03  1.715000e+03  1.715000e+03  1.715000e+03   \n",
      "mean   ... -2.233393e-18 -1.466271e-16 -2.163640e-16 -3.509421e-16   \n",
      "std    ...  1.000292e+00  1.000292e+00  1.000292e+00  1.000292e+00   \n",
      "min    ... -2.074023e-01 -8.034550e-02 -7.658396e-02 -5.585263e-02   \n",
      "25%    ... -2.074023e-01 -8.034550e-02 -7.658396e-02 -5.585263e-02   \n",
      "50%    ... -2.074023e-01 -8.034550e-02 -7.658396e-02 -5.585263e-02   \n",
      "75%    ... -2.074023e-01 -8.034550e-02 -7.658396e-02 -5.585263e-02   \n",
      "max    ...  1.155111e+01  1.244625e+01  1.305756e+01  2.389096e+01   \n",
      "\n",
      "                 80      81            82            83            84  \\\n",
      "count  1.715000e+03  1715.0  1.715000e+03  1.715000e+03  1.715000e+03   \n",
      "mean   3.005047e-16     0.0  2.671171e-16 -3.636871e-16 -1.296015e-16   \n",
      "std    1.000292e+00     0.0  1.000292e+00  1.000292e+00  1.000292e+00   \n",
      "min   -9.833798e-01     0.0 -8.131991e-02 -1.597481e-01 -6.845863e-02   \n",
      "25%   -9.833798e-01     0.0 -8.131991e-02 -1.597481e-01 -6.845863e-02   \n",
      "50%    8.107653e-01     0.0 -8.131991e-02 -1.597481e-01 -6.845863e-02   \n",
      "75%    8.107653e-01     0.0 -8.131991e-02 -1.597481e-01 -6.845863e-02   \n",
      "max    6.193201e+00     0.0  2.137463e+01  1.248493e+01  1.460736e+01   \n",
      "\n",
      "                 85  \n",
      "count  1.715000e+03  \n",
      "mean  -2.788505e-16  \n",
      "std    1.000292e+00  \n",
      "min   -1.165907e-01  \n",
      "25%   -1.165907e-01  \n",
      "50%   -1.165907e-01  \n",
      "75%   -1.165907e-01  \n",
      "max    8.577017e+00  \n",
      "\n",
      "[8 rows x 86 columns]\n"
     ]
    }
   ],
   "source": [
    "Norm_TestKaggle = preprocessing.StandardScaler().fit_transform(TEST)\n",
    "scaled_test =pd.DataFrame(Norm_TestKaggle)\n",
    "print(scaled_test.describe())\n",
    "pca_fin = PCA(n_components = 80, whiten = True).fit(Norm_TestKaggle)\n",
    "data_x_pca = pca_fin.transform(Norm_TestKaggle)"
   ]
  },
  {
   "cell_type": "code",
   "execution_count": 23,
   "metadata": {},
   "outputs": [
    {
     "name": "stdout",
     "output_type": "stream",
     "text": [
      "[0 0 0 ... 0 0 0]\n"
     ]
    }
   ],
   "source": [
    "y_predc_de_fichier_test = resultats.predict(data_x_pca)\n",
    "#performances du meilleur modele \n",
    "print(y_predc_de_fichier_test)\n"
   ]
  },
  {
   "cell_type": "code",
   "execution_count": 24,
   "metadata": {},
   "outputs": [
    {
     "name": "stdout",
     "output_type": "stream",
     "text": [
      "      0\n",
      "0     0\n",
      "1     0\n",
      "2     0\n",
      "3     0\n",
      "4     0\n",
      "...  ..\n",
      "1710  0\n",
      "1711  0\n",
      "1712  0\n",
      "1713  0\n",
      "1714  0\n",
      "\n",
      "[1715 rows x 1 columns]\n"
     ]
    },
    {
     "data": {
      "text/html": [
       "<div>\n",
       "<style scoped>\n",
       "    .dataframe tbody tr th:only-of-type {\n",
       "        vertical-align: middle;\n",
       "    }\n",
       "\n",
       "    .dataframe tbody tr th {\n",
       "        vertical-align: top;\n",
       "    }\n",
       "\n",
       "    .dataframe thead th {\n",
       "        text-align: right;\n",
       "    }\n",
       "</style>\n",
       "<table border=\"1\" class=\"dataframe\">\n",
       "  <thead>\n",
       "    <tr style=\"text-align: right;\">\n",
       "      <th></th>\n",
       "      <th>0</th>\n",
       "    </tr>\n",
       "  </thead>\n",
       "  <tbody>\n",
       "    <tr>\n",
       "      <th>count</th>\n",
       "      <td>1715.000000</td>\n",
       "    </tr>\n",
       "    <tr>\n",
       "      <th>mean</th>\n",
       "      <td>0.022741</td>\n",
       "    </tr>\n",
       "    <tr>\n",
       "      <th>std</th>\n",
       "      <td>0.149119</td>\n",
       "    </tr>\n",
       "    <tr>\n",
       "      <th>min</th>\n",
       "      <td>0.000000</td>\n",
       "    </tr>\n",
       "    <tr>\n",
       "      <th>25%</th>\n",
       "      <td>0.000000</td>\n",
       "    </tr>\n",
       "    <tr>\n",
       "      <th>50%</th>\n",
       "      <td>0.000000</td>\n",
       "    </tr>\n",
       "    <tr>\n",
       "      <th>75%</th>\n",
       "      <td>0.000000</td>\n",
       "    </tr>\n",
       "    <tr>\n",
       "      <th>max</th>\n",
       "      <td>1.000000</td>\n",
       "    </tr>\n",
       "  </tbody>\n",
       "</table>\n",
       "</div>"
      ],
      "text/plain": [
       "                 0\n",
       "count  1715.000000\n",
       "mean      0.022741\n",
       "std       0.149119\n",
       "min       0.000000\n",
       "25%       0.000000\n",
       "50%       0.000000\n",
       "75%       0.000000\n",
       "max       1.000000"
      ]
     },
     "execution_count": 24,
     "metadata": {},
     "output_type": "execute_result"
    }
   ],
   "source": [
    "resultat_fin =pd.DataFrame(y_predc_de_fichier_test)\n",
    "print(resultat_fin)\n",
    "resultat_fin.describe()"
   ]
  },
  {
   "cell_type": "code",
   "execution_count": 25,
   "metadata": {},
   "outputs": [
    {
     "name": "stdout",
     "output_type": "stream",
     "text": [
      "[ 114  123  167  208  348  364  380  389  554  611  726  740  787  821\n",
      "  825  847 1013 1058 1080 1128 1151 1169 1191 1219 1340 1347 1354 1355\n",
      " 1435 1487 1613 1617 1640 1645 1659 1661 1666 1671 1701]\n"
     ]
    }
   ],
   "source": [
    "print(np.flatnonzero(y_predc_de_fichier_test))"
   ]
  },
  {
   "cell_type": "code",
   "execution_count": 26,
   "metadata": {},
   "outputs": [
    {
     "name": "stdout",
     "output_type": "stream",
     "text": [
      "      0\n",
      "0     0\n",
      "1     0\n",
      "2     0\n",
      "3     0\n",
      "4     0\n",
      "...  ..\n",
      "1710  0\n",
      "1711  0\n",
      "1712  0\n",
      "1713  0\n",
      "1714  0\n",
      "\n",
      "[1715 rows x 1 columns]\n"
     ]
    }
   ],
   "source": [
    "y_predc_de_fichier_test = pd.DataFrame(y_predc_de_fichier_test)\n",
    "print(y_predc_de_fichier_test)"
   ]
  },
  {
   "cell_type": "code",
   "execution_count": 27,
   "metadata": {},
   "outputs": [],
   "source": [
    "with pd.ExcelWriter('Prediction_de_Ziyi.xlsx') as writer : \n",
    "    y_predc_de_fichier_test.to_excel(writer,sheet_name='Sheet1')"
   ]
  }
 ],
 "metadata": {
  "kernelspec": {
   "display_name": "Python 3",
   "language": "python",
   "name": "python3"
  },
  "language_info": {
   "codemirror_mode": {
    "name": "ipython",
    "version": 3
   },
   "file_extension": ".py",
   "mimetype": "text/x-python",
   "name": "python",
   "nbconvert_exporter": "python",
   "pygments_lexer": "ipython3",
   "version": "3.7.4"
  }
 },
 "nbformat": 4,
 "nbformat_minor": 2
}
