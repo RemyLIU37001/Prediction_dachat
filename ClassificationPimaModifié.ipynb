{
 "cells": [
  {
   "cell_type": "markdown",
   "metadata": {
    "id": "BeNZlCMx2_AT"
   },
   "source": [
    "# I- Connection à votre drive pour lecture des données:\n",
    "\n",
    "Cette étape est nécessaire seulement si vous travailler sous Clobal. Si vous travailler avec un aure éditeur python sur votre machine, il suffit de placer le fichier \"pima.csv\" dans votre répertoire de travail.\n",
    "\n",
    "1- Créer sur votre drive google un répertoire au nom \"data\" et importer dedans le fichier pima.csv\n",
    "\n",
    "2- Créer une connection à votre drive en exécutant le code suivant:\n",
    "\n",
    "```\n",
    "from google.colab import drive\n",
    "drive.mount(‘/content/drive’)\n",
    "```\n",
    "4- Suivre les étapes de connection et copier le lien envoyé.\n",
    "Si vous avez de difficultés, vous pouvez visualiser cette vidéo: https://youtu.be/TDyfhlg23vs\n",
    "\n"
   ]
  },
  {
   "cell_type": "code",
   "execution_count": 1,
   "metadata": {
    "colab": {
     "base_uri": "https://localhost:8080/"
    },
    "id": "gd0dkJSmyywg",
    "outputId": "3eff7130-2b1a-40c8-f5e4-f1e3d8eb4ef9"
   },
   "outputs": [],
   "source": [
    "#céer une connection avec google colab\n",
    "#from google.colab import drive\n",
    "#drive.mount('/content/drive')\n",
    "\n"
   ]
  },
  {
   "cell_type": "markdown",
   "metadata": {
    "id": "DFZA3_sfzUD_"
   },
   "source": [
    "# II- Importation des données dans un frame pandas : \n",
    "Compléter le code suivant afin d’importer les données du fichier pima.csv et afficher les caractéristiques correspondantes.\n",
    "1- Importer la librairie pandas\n",
    "\n",
    "2- lire le fichier pima.csv (copier le chemin complet à partir de votre drive)\n",
    "\n",
    "3- Afficher les dimensions de la table avec la propriété shape\n",
    "\n",
    "4-afficher les colonnes et leurs types"
   ]
  },
  {
   "cell_type": "code",
   "execution_count": 2,
   "metadata": {
    "colab": {
     "base_uri": "https://localhost:8080/"
    },
    "id": "EXHPZTgv6o-7",
    "outputId": "9a288416-87e9-42b6-c201-829ab4537d68"
   },
   "outputs": [
    {
     "name": "stdout",
     "output_type": "stream",
     "text": [
      "(767, 9)\n",
      "Index(['6', '148', '72', '35', '0', '33.6', '0.627', '50', '1'], dtype='object')\n",
      "6          int64\n",
      "148        int64\n",
      "72         int64\n",
      "35         int64\n",
      "0          int64\n",
      "33.6     float64\n",
      "0.627    float64\n",
      "50         int64\n",
      "1          int64\n",
      "dtype: object\n"
     ]
    }
   ],
   "source": [
    "#importer  la librairie Pandas\n",
    "import pandas as pd\n",
    "#lecture du fichier \"prima.txt\" avec la fonction read_csv de pandas\n",
    "#header = 0, la première ligne correspond à l'entête (intitulé des champs)\n",
    "pima = pd.read_csv('pima.csv', sep=',')\n",
    "#afficher les dimensions de la table des données avec la fonction pima.shape\n",
    "print(pima.shape ) \n",
    "#afficher la liste des colonnes pima.columns\n",
    "print(pima.columns)\n",
    "#afficher la liste des colonnes et leurs types avec la fonction dtypes\n",
    "print(pima.dtypes)"
   ]
  },
  {
   "cell_type": "markdown",
   "metadata": {
    "id": "VjmLZbKxTtKM"
   },
   "source": [
    "#III- Préparation des données d'apprentissage"
   ]
  },
  {
   "cell_type": "markdown",
   "metadata": {
    "id": "2niUh0YlRpyW"
   },
   "source": [
    "## 1- Séparation des input / Output\n",
    "1. Transférer la table pandas dans une matrice Numpy. Utiliser la fonction as_matrix().\n",
    "\n",
    "2. Séparer des données explicatives X (8 premières variables) et de la cible Y (dernière variable). Utiliser le slicing."
   ]
  },
  {
   "cell_type": "code",
   "execution_count": 3,
   "metadata": {
    "id": "giiYCpMTSBld"
   },
   "outputs": [],
   "source": [
    "#transformation en matrice numpy seul reconnu par scikit learn\n",
    "data = pima.to_numpy()\n",
    "#séparation des données explicatives X et de la cible Y\n",
    "#X matrice des var. explicatives [:,0:8]\n",
    "x = data[:,0:8]\n",
    "#Y vecteur de la variable à prédire\n",
    "y = data[:,-1]"
   ]
  },
  {
   "cell_type": "markdown",
   "metadata": {
    "id": "TtP_eBrYLvWK"
   },
   "source": [
    "## 2- Scaling des données\n",
    "\n",
    "Les variables dans l'échantillon Pima ont des échelles différentes. Pour que les techniques de classification s'appliquent correctement, il est conseillé  soit de normaliser (StandardScaler) soit de mettre à l'échelle 0-1 (Min-Max) toutes les variables. Dans ce cas, on vous suggère de tester les deux cas comme suit:\n",
    "1. Séparer les données input X de l'output Y (Y ne \n",
    "doit pas être modifiée).\n",
    "2. Appliquer la méthode StandardScalar() comme suit:\n",
    "```\n",
    "x_normalized=preprocessing.StandardScaler().fit_transform(x)\n",
    "```\n",
    "3. Appliquer la méthode MinMaxdScalar() comme suit:\n",
    "```\n",
    "x_scaled=preprocessing.MinMasScaler().fit_transform(x)\n",
    "```"
   ]
  },
  {
   "cell_type": "code",
   "execution_count": 4,
   "metadata": {
    "id": "83cFhV1IOfWC"
   },
   "outputs": [
    {
     "data": {
      "text/plain": [
       "array([[0.05882353, 0.42713568, 0.54098361, ..., 0.39642325, 0.11656704,\n",
       "        0.16666667],\n",
       "       [0.47058824, 0.91959799, 0.52459016, ..., 0.34724292, 0.25362938,\n",
       "        0.18333333],\n",
       "       [0.05882353, 0.44723618, 0.54098361, ..., 0.41877794, 0.03800171,\n",
       "        0.        ],\n",
       "       ...,\n",
       "       [0.29411765, 0.6080402 , 0.59016393, ..., 0.390462  , 0.07130658,\n",
       "        0.15      ],\n",
       "       [0.05882353, 0.63316583, 0.49180328, ..., 0.4485842 , 0.11571307,\n",
       "        0.43333333],\n",
       "       [0.05882353, 0.46733668, 0.57377049, ..., 0.45305514, 0.10119556,\n",
       "        0.03333333]])"
      ]
     },
     "execution_count": 4,
     "metadata": {},
     "output_type": "execute_result"
    }
   ],
   "source": [
    "#importer le module preprocessing\n",
    "from sklearn import preprocessing\n",
    "#appliquer la normalisation de x\n",
    "x_normalized = preprocessing.StandardScaler().fit_transform(x)\n",
    "#appliquer le scaling de X \n",
    "x_scaled = preprocessing.MinMaxScaler().fit_transform(x)\n",
    "#diminuer la dimension de x\n",
    "from sklearn.decomposition import PCA\n",
    "pca = PCA( n_components = 5, whiten = True).fit(x_normalized)\n",
    "#pca = PCA(n_components = 5, whiten = true).fit()\n",
    "data_pca = pca.transform(x)\n",
    "#Afficher les premières lignes de X_normalized et x_scaled et noter l'intervalle des valeurs\n",
    "x_normalized\n",
    "x_scaled"
   ]
  },
  {
   "cell_type": "markdown",
   "metadata": {
    "id": "OOeunJk8DW9l"
   },
   "source": [
    "## 3- Découpage des données\n",
    "\n",
    "1. Découper  les données `x_nomalized` et `x_scaled` en données train et test avec la fonction **train_test_split** du module **model_selection** de pandas. La taille de l’échantillon test est égale à 300 (paramètre test_size de la fonction `train_test_split`).\n",
    "Effectuer ce découpage afin de créer (x1_train, y1_train) à partir de  `x_nomalized` et (x2_train, y2_train) à partir de `x_scaled`.\n",
    "\n",
    "2. Afficher les structures des ensembles crées en utilisant la propriété  `shape` de chaque vecteur."
   ]
  },
  {
   "cell_type": "code",
   "execution_count": 5,
   "metadata": {},
   "outputs": [
    {
     "name": "stdout",
     "output_type": "stream",
     "text": [
      "(467, 8) (300, 8) (467,) (300,)\n",
      "[[-0.84372629 -0.80917151 -0.47023757 ... -1.02619703 -0.63895586\n",
      "  -0.95524792]\n",
      " [ 0.04683068  0.47377779  0.04641078 ... -0.10026481  2.14417835\n",
      "  -0.95524792]\n",
      " [-0.84372629 -1.2785432  -0.72856175 ... -1.63502918 -0.64499303\n",
      "  -1.0403932 ]\n",
      " ...\n",
      " [ 0.93738765 -0.21463403 -0.26357823 ... -0.58225693  0.78581567\n",
      "   0.06649547]\n",
      " [ 0.64053533  0.12957188  0.3563998  ...  0.22951927 -1.058539\n",
      "   1.76940112]\n",
      " [-0.54687397  0.25473767  0.25307013 ...  0.15341525  0.36019536\n",
      "  -0.69981207]]\n",
      "[0. 1. 0. 1. 0. 0. 0. 0. 1. 0. 0. 0. 0. 0. 0. 0. 1. 1. 0. 1. 0. 0. 0. 0.\n",
      " 1. 0. 0. 0. 0. 0. 0. 0. 0. 0. 1. 0. 1. 1. 1. 1. 1. 1. 1. 0. 0. 0. 0. 0.\n",
      " 0. 0. 1. 1. 0. 1. 1. 0. 0. 0. 1. 0. 1. 0. 0. 1. 0. 0. 0. 0. 1. 0. 0. 0.\n",
      " 1. 1. 0. 0. 0. 1. 0. 1. 0. 0. 0. 1. 0. 1. 1. 1. 0. 0. 0. 0. 1. 1. 0. 1.\n",
      " 0. 0. 0. 0. 0. 0. 1. 0. 0. 0. 0. 1. 0. 0. 0. 1. 0. 0. 0. 1. 1. 1. 1. 0.\n",
      " 0. 0. 0. 0. 0. 0. 1. 0. 0. 1. 0. 1. 0. 0. 0. 1. 1. 1. 0. 1. 0. 1. 0. 1.\n",
      " 0. 0. 0. 0. 0. 0. 1. 1. 0. 0. 0. 0. 0. 0. 1. 1. 0. 0. 0. 1. 0. 0. 0. 1.\n",
      " 0. 1. 1. 0. 0. 0. 0. 1. 0. 0. 1. 0. 0. 1. 0. 0. 0. 1. 0. 1. 0. 0. 1. 0.\n",
      " 0. 0. 1. 0. 1. 1. 0. 0. 1. 0. 0. 0. 0. 0. 1. 0. 0. 0. 0. 1. 0. 0. 0. 1.\n",
      " 1. 0. 1. 1. 0. 0. 1. 0. 1. 1. 1. 0. 0. 0. 0. 0. 0. 1. 0. 1. 1. 0. 0. 0.\n",
      " 0. 0. 1. 1. 0. 0. 0. 0. 1. 0. 1. 1. 0. 0. 0. 0. 1. 0. 0. 0. 0. 0. 0. 0.\n",
      " 1. 0. 1. 0. 1. 0. 1. 1. 1. 1. 1. 0. 0. 1. 1. 0. 0. 0. 1. 0. 1. 0. 0. 1.\n",
      " 0. 0. 0. 0. 0. 0. 0. 0. 1. 0. 0. 0. 0. 0. 0. 0. 0. 0. 0. 0. 0. 1. 1. 0.\n",
      " 0. 0. 0. 0. 0. 1. 0. 1. 0. 1. 0. 0. 0. 0. 0. 1. 1. 0. 1. 0. 1. 1. 0. 1.\n",
      " 1. 0. 0. 0. 1. 0. 0. 0. 0. 1. 0. 0. 0. 1. 0. 0. 0. 0. 0. 0. 1. 1. 0. 1.\n",
      " 1. 1. 1. 0. 0. 0. 0. 0. 0. 1. 0. 1. 1. 1. 0. 0. 1. 0. 1. 0. 1. 0. 1. 1.\n",
      " 0. 0. 1. 0. 0. 1. 1. 1. 0. 0. 0. 0. 0. 1. 1. 0. 0. 0. 1. 1. 0. 1. 0. 0.\n",
      " 1. 1. 1. 0. 0. 0. 0. 0. 0. 1. 1. 0. 0. 0. 0. 1. 1. 1. 1. 0. 1. 0. 0. 1.\n",
      " 0. 1. 0. 0. 0. 1. 0. 0. 0. 1. 0. 0. 1. 1. 1. 1. 0. 0. 1. 0. 1. 0. 0. 0.\n",
      " 0. 1. 0. 0. 0. 1. 1. 1. 1. 1. 0.]\n"
     ]
    }
   ],
   "source": [
    "#Subdivision des données en données train et test avec la fonction train_test_split du module model_selection de pandas\n",
    "#importation du module model_selection de scikit learn\n",
    "from sklearn import model_selection\n",
    "from sklearn.model_selection import cross_validate\n",
    "#from sklearn.model_selection import Shuffle_Split\n",
    "#subdivision des données éch.test = 300 ; éch.app = 468\n",
    "x1_train,x1_test,y1_train,y1_test =  model_selection.train_test_split(x_normalized,y,test_size = 300,random_state = 0)#à partir de x_normalized\n",
    "x2_train,x2_test,y2_train,y2_test =  model_selection.train_test_split(x_scaled,y,test_size = 300,random_state = 0)   # à partir de x_scaled\n",
    "x_train_pca,x_test_pca,y_train_pca,y_test_pca = model_selection.train_test_split(data_pca,y,test_size = 300,random_state = 0)\n",
    "print(x1_train.shape, x1_test.shape, y1_train.shape, y1_test.shape)\n",
    "print(x1_train)\n",
    "print(y1_train)"
   ]
  },
  {
   "cell_type": "markdown",
   "metadata": {
    "id": "qLF_lHOZEfJM"
   },
   "source": [
    "# IV - Classification avec le modèle de régression logistique\n",
    "Comme première approche de classification, nous utiliserons la régression logistique.\n",
    "\n",
    "1-A partir du module `linear_model` du package sklearn, importer la classe `LogisticRegression`.\n",
    "\n",
    "2- Créer une instance de la classe `LogisticRegression`.\n",
    "\n",
    "3- Exécuter l'instance sur les données d'apprentissage `x1_train` afin de construire votre premier modèle prédictif que vous appellerez « modèle_LR1 ».  Pour ce faire, il faut exécuter la fonction fit de la classe LogisticRegression qui prend comme argument les ensembles les données explicatives `x1_train` et les données cibles `y1_train`. Refaire la même chose avec `x2_train` et `y1_train` pour obtenir le modèle « modèle_LR2 »\n",
    "\n",
    "4- Appliquer les modèles générés sur les données tests `x_test` à travers la fonction `predict'.\n",
    "\n",
    "5- Importer le module seaborn `import seaborn as sns`\n",
    "\n",
    "6- Afficher la matrice de confusion.\n",
    "\n",
    "\n"
   ]
  },
  {
   "cell_type": "code",
   "execution_count": 6,
   "metadata": {
    "id": "-S9qwkaDEflv"
   },
   "outputs": [
    {
     "name": "stdout",
     "output_type": "stream",
     "text": [
      "0.7766666666666666\n",
      "0.77\n"
     ]
    },
    {
     "name": "stderr",
     "output_type": "stream",
     "text": [
      "C:\\Users\\lenovo\\Anaconda3\\lib\\site-packages\\statsmodels\\tools\\_testing.py:19: FutureWarning: pandas.util.testing is deprecated. Use the functions in the public API at pandas.testing instead.\n",
      "  import pandas.util.testing as tm\n"
     ]
    },
    {
     "data": {
      "text/plain": [
       "array([[184,  15],\n",
       "       [ 52,  49]], dtype=int64)"
      ]
     },
     "execution_count": 6,
     "metadata": {},
     "output_type": "execute_result"
    }
   ],
   "source": [
    "#importer la classe LogisticRegression\n",
    "from sklearn.linear_model import LogisticRegression\n",
    "#création d'une instance de la classe\n",
    "LR= LogisticRegression()\n",
    "#exécution de l'instance sur les données d'apprentissage x1_train et x2_train\n",
    "#c.à d . construction du modèle prédictif\n",
    "modele_LR1=LR.fit(x1_train, y1_train)\n",
    "modele_LR2=LR.fit(x2_train, y2_train)\n",
    "\n",
    "#application des modèles sur les données test\n",
    "y1_pred=modele_LR1.predict(x1_test)\n",
    "y2_pred=modele_LR2.predict(x2_test)\n",
    "\n",
    "#Calculer les scores des modèles\n",
    "#Importer le module metric\n",
    "from sklearn import metrics\n",
    "model_lr1_score=metrics.accuracy_score(y1_pred, y1_test)\n",
    "model_lr2_score=metrics.accuracy_score(y2_pred, y2_test)\n",
    "\n",
    "#Affichier les ascores Que remarquez vous?\n",
    "print(model_lr1_score)\n",
    "print(model_lr2_score)\n",
    "\n",
    "#\n",
    "#importer le module seaborn (pour la matrice de confusion)\n",
    "import seaborn as sns\n",
    "#création de la matrice de confusion\n",
    "matrix_LR1 = metrics.confusion_matrix(y1_test, y1_pred)\n",
    "matrix_LR1"
   ]
  },
  {
   "cell_type": "code",
   "execution_count": 7,
   "metadata": {},
   "outputs": [
    {
     "data": {
      "text/plain": [
       "array([[183,  16],\n",
       "       [ 53,  48]], dtype=int64)"
      ]
     },
     "execution_count": 7,
     "metadata": {},
     "output_type": "execute_result"
    }
   ],
   "source": [
    "matrix_LR2 = metrics.confusion_matrix(y2_test, y2_pred)\n",
    "matrix_LR2"
   ]
  },
  {
   "cell_type": "markdown",
   "metadata": {
    "id": "MyiXvb8cBsU-"
   },
   "source": [
    "Pour la suite du TP, vous garderez que les données normalisées (x1_train et y1_train) qui seront renommées x_train et x_test"
   ]
  },
  {
   "cell_type": "code",
   "execution_count": 8,
   "metadata": {
    "id": "nu3K_hxtDetF"
   },
   "outputs": [],
   "source": [
    "x_train=x1_train\n",
    "y_train=y1_train\n",
    "x_test=x1_test\n",
    "y_test=y1_test"
   ]
  },
  {
   "cell_type": "markdown",
   "metadata": {
    "id": "ZlhX-zLYUg7p"
   },
   "source": [
    "# V- Classification par arbre de décision\n",
    "Comme deusième approche de classification, nous utiliserons l'arbre de décision.\n",
    "\n",
    "1-A partir du module tree du package sklearn, importer la classe DecisionTreeClassifier.\n",
    "\n",
    "2- Créer une instance de la classe `DecisionTreeClassifier`.\n",
    "\n",
    "3- Exécuter l'instance sur les données d'apprentissage `x_train` afin de construire votre deuxième modèle prédictif que vous appellerez « modèle_DT ».  Pour ce faire, il faut exécuter la fonction fit de la classe DecisionTreeClassifier qui prend comme argument les ensembles les données explicatives `x_train` et les données cibles `y_train`.\n",
    "\n",
    "4- Appliquer le modèle généré sur les données tests `x_test` à travers la fonction `predict`.\n",
    "\n",
    "5- Afficher la matrice de confusion."
   ]
  },
  {
   "cell_type": "code",
   "execution_count": 9,
   "metadata": {
    "id": "alE6SAB0XRWJ"
   },
   "outputs": [
    {
     "name": "stdout",
     "output_type": "stream",
     "text": [
      "0.6966666666666667\n",
      "[[154  45]\n",
      " [ 46  55]]\n"
     ]
    }
   ],
   "source": [
    "#importer la classe decisionTreeClassifier\n",
    "from sklearn.tree import DecisionTreeClassifier \n",
    "#création d'une instance de la classe\n",
    "dt = DecisionTreeClassifier()\n",
    "#exécution de l'instance sur les données d'apprentissage\n",
    "#c.à d . construction du modèle prédictif\n",
    "model_dt = dt.fit(x_train, y_train)\n",
    "dt_pred = model_dt.predict(x_test)\n",
    "\n",
    "#test du modèle sur les données test\n",
    "score_dt = metrics.accuracy_score(dt_pred,y_test)\n",
    "print(score_dt)\n",
    "#création de la matrice de confusion\n",
    "matrix_dt = metrics.confusion_matrix(y_test,dt_pred)\n",
    "print(matrix_dt)"
   ]
  },
  {
   "cell_type": "markdown",
   "metadata": {
    "id": "y7maUda7aiKw"
   },
   "source": [
    "# VI- Classification par la forêt d'arbres\n",
    "Comme troisième approche de classification, nous utiliserons un forêt d'arbre de décision.\n",
    "\n",
    "1-A partir du module `ensemble` du package sklearn, importer la classe `RandomForestClassifier`.\n",
    "\n",
    "2- Créer une instance de la classe `RandomForestClassifier`.\n",
    "\n",
    "3- Exécuter l'instance sur les données d'apprentissage `x_train` afin de construire votre Troisième modèle prédictif que vous appellerez « modèle_RF ».  Pour ce faire, il faut exécuter la fonction fit de la classe RandomForestClassifier qui prend comme argument les ensembles les données explicatives `x_train` et les données cibles `y_train`.\n",
    "\n",
    "4- Appliquer le modèle généré sur les données tests `x_test` à travers la fonction `predict`.\n",
    "\n",
    "5- Afficher la matrice de confusion."
   ]
  },
  {
   "cell_type": "code",
   "execution_count": 10,
   "metadata": {
    "id": "9nkaYRcnbwyi"
   },
   "outputs": [
    {
     "name": "stdout",
     "output_type": "stream",
     "text": [
      "0.77\n",
      "[[171  41]\n",
      " [ 28  60]]\n"
     ]
    }
   ],
   "source": [
    "#importer la classe RandomForestClassifier\n",
    "from sklearn.ensemble import RandomForestClassifier\n",
    "#création d'une instance de la classe\n",
    "rf = RandomForestClassifier()\n",
    "#exécution de l'instance sur les données d'apprentissage\n",
    "#c.à d . construction du modèle prédictif\n",
    "model_rf = rf.fit(x_train,y_train)\n",
    "rf_pred = model_rf.predict(x_test)\n",
    "\n",
    "#test du modèle sur les données test\n",
    "score_rf = metrics.accuracy_score(y_test,rf_pred)\n",
    "print(score_rf)\n",
    "#création de la matrice de confusion\n",
    "matrix_rf = metrics.confusion_matrix(rf_pred,y_test)\n",
    "print(matrix_rf)"
   ]
  },
  {
   "cell_type": "markdown",
   "metadata": {
    "id": "Z30ABeJUYJkD"
   },
   "source": [
    "# VII- Classification par les SVM\n",
    "Comme quatrième approche de classification, nous utiliserons les SVM.\n",
    "\n",
    "1-A partir du module `svm` du package sklearn, importer la classe `SVC`.\n",
    "\n",
    "2- Créer une instance de la classe `SVC` de `sklearn.svm`.\n",
    "\n",
    "3- Exécuter l'instance sur les données d'apprentissage `x_train` afin de construire votre quatrième modèle prédictif que vous appellerez « modèle_SVM ».  Pour ce faire, il faut exécuter la fonction fit de la classe SVC.\n",
    "\n",
    "4- Appliquer le modèle généré sur les données tests `x_test` à travers la fonction `predict`.\n",
    "\n",
    "5- Afficher la matrice de confusion."
   ]
  },
  {
   "cell_type": "code",
   "execution_count": 11,
   "metadata": {
    "id": "560yCmqUYtmI"
   },
   "outputs": [
    {
     "name": "stdout",
     "output_type": "stream",
     "text": [
      "0.7766666666666666\n",
      "[[176  44]\n",
      " [ 23  57]]\n"
     ]
    },
    {
     "name": "stderr",
     "output_type": "stream",
     "text": [
      "C:\\Users\\lenovo\\Anaconda3\\lib\\site-packages\\sklearn\\svm\\_base.py:977: ConvergenceWarning: Liblinear failed to converge, increase the number of iterations.\n",
      "  \"the number of iterations.\", ConvergenceWarning)\n"
     ]
    }
   ],
   "source": [
    "#importer la classe SVC\n",
    "from sklearn.svm import LinearSVC\n",
    "\n",
    "#création d'une instance de la classe\n",
    "svc = LinearSVC()\n",
    "\n",
    "#exécution de l'instance sur les données d'apprentissage\n",
    "#c.à d . construction du modèle prédictif\n",
    "svc_model = svc.fit(x_train, y_train)\n",
    "\n",
    "#appliquer le modèle sur les données test\n",
    "svc_pred = svc_model.predict(x_test)\n",
    "svc_score = metrics.accuracy_score(y_test,svc_pred)\n",
    "\n",
    "#création et affichage de la matrice de confusion\n",
    "matrix_svc = metrics.confusion_matrix(svc_pred,y_test)\n",
    "\n",
    "print(svc_score)\n",
    "print(matrix_svc)"
   ]
  },
  {
   "cell_type": "markdown",
   "metadata": {
    "id": "XpSiqjGzaEWo"
   },
   "source": [
    "# VIII- Validation des modèles\n",
    "\n",
    "1. Calculer le score de chaque modèle généré et l'ajouter dans une liste\n",
    "\n",
    "2. Afficher la courbe des scores \"AccuracyScore\"\n",
    "\n",
    "Comparer les résultats"
   ]
  },
  {
   "cell_type": "code",
   "execution_count": 12,
   "metadata": {
    "id": "JD9h-DIZafyb"
   },
   "outputs": [
    {
     "name": "stdout",
     "output_type": "stream",
     "text": [
      "[0.7766666666666666, 0.6966666666666667, 0.77, 0.7766666666666666]\n"
     ]
    },
    {
     "data": {
      "image/png": "[encoded data removed]",
      "text/plain": [
       "<Figure size 432x288 with 1 Axes>"
      ]
     },
     "metadata": {
      "needs_background": "light"
     },
     "output_type": "display_data"
    },
    {
     "data": {
      "image/png": "[encoded data removed]",
      "text/plain": [
       "<Figure size 432x288 with 1 Axes>"
      ]
     },
     "metadata": {
      "needs_background": "light"
     },
     "output_type": "display_data"
    },
    {
     "data": {
      "image/png": "[encoded data removed]",
      "text/plain": [
       "<Figure size 432x288 with 1 Axes>"
      ]
     },
     "metadata": {
      "needs_background": "light"
     },
     "output_type": "display_data"
    },
    {
     "data": {
      "image/png": "[encoded data removed]",
      "text/plain": [
       "<Figure size 432x288 with 1 Axes>"
      ]
     },
     "metadata": {
      "needs_background": "light"
     },
     "output_type": "display_data"
    }
   ],
   "source": [
    "#Calculer les accuracy des modèles\n",
    "List_des_score = []\n",
    "\n",
    "#Ajouter tous les scores à une liste\n",
    "List_des_score.append(model_lr1_score)\n",
    "List_des_score.append(score_dt)\n",
    "List_des_score.append(score_rf)\n",
    "List_des_score.append(svc_score)\n",
    "print(List_des_score)\n",
    "\n",
    "#Importer Pyplot\n",
    "import matplotlib.pyplot as plt\n",
    "\n",
    "labels= ['Pas-Diabète','Diabète']\n",
    "# Regression Logistique\n",
    "sns.heatmap(matrix_LR1, square=True, annot=True, cbar=False\n",
    "\n",
    "            , xticklabels=list(labels)\n",
    "\n",
    "            , yticklabels=list(labels))\n",
    "\n",
    "plt.xlabel('valeurs prédites')\n",
    "\n",
    "plt.ylabel('valeurs réelles');\n",
    "\n",
    "plt.title('Regression Lineaire')\n",
    "\n",
    "plt.show()\n",
    "\n",
    "#Arbres de Décision\n",
    "sns.heatmap(matrix_dt, square=True, annot=True, cbar=False\n",
    "\n",
    "            , xticklabels=list(labels)\n",
    "\n",
    "            , yticklabels=list(labels))\n",
    "\n",
    "plt.xlabel('valeurs prédites')\n",
    "\n",
    "plt.ylabel('valeurs réelles');\n",
    "\n",
    "plt.title(\"Arbre de Décision\")\n",
    "\n",
    "plt.show()\n",
    "# Random forest\n",
    "sns.heatmap(matrix_rf, square=True, annot=True, cbar=False\n",
    "\n",
    "            , xticklabels=list(labels)\n",
    "\n",
    "            , yticklabels=list(labels))\n",
    "\n",
    "plt.xlabel('valeurs prédites')\n",
    "\n",
    "plt.ylabel('valeurs réelles');\n",
    "\n",
    "plt.title(\"Arbre de Décision\")\n",
    "\n",
    "plt.show()\n",
    "\n",
    "#SVC\n",
    "sns.heatmap(matrix_svc, square=True, annot=True, cbar=False\n",
    "\n",
    "            , xticklabels=list(labels)\n",
    "\n",
    "            , yticklabels=list(labels))\n",
    "\n",
    "plt.xlabel('valeurs prédites')\n",
    "\n",
    "plt.ylabel('valeurs réelles');\n",
    "\n",
    "plt.title(\"Arbre de Décision\")\n",
    "\n",
    "plt.show()\n",
    "\n"
   ]
  },
  {
   "cell_type": "code",
   "execution_count": 13,
   "metadata": {
    "scrolled": true
   },
   "outputs": [
    {
     "data": {
      "text/plain": [
       "[<matplotlib.lines.Line2D at 0x28b0e1ccd88>]"
      ]
     },
     "execution_count": 13,
     "metadata": {},
     "output_type": "execute_result"
    },
    {
     "data": {
      "image/png": "[encoded data removed]",
      "text/plain": [
       "<Figure size 432x288 with 1 Axes>"
      ]
     },
     "metadata": {
      "needs_background": "light"
     },
     "output_type": "display_data"
    }
   ],
   "source": [
    "#Afficher la liste des scores dans une courbe\n",
    "les_scores = List_des_score\n",
    "nom_de_x = ['score_lr1','score_dt','score_rf','score_svc']\n",
    "plt.plot(nom_de_x,les_scores)\n"
   ]
  },
  {
   "cell_type": "code",
   "execution_count": 14,
   "metadata": {},
   "outputs": [],
   "source": [
    "#challengedata.ens.fr"
   ]
  },
  {
   "cell_type": "markdown",
   "metadata": {
    "id": "C-wqlUpRDttc"
   },
   "source": [
    "IX - Validation croisée\n",
    "Reprendre l'étape III-3 pour tester maintenant les modèles avec la validation croisée.\n",
    "```\n",
    "from sklearn.model_selection import cross_validate\n",
    "from sklearn.model_selection import ShuffleSplit\n",
    "cv = ShuffleSplit(n_splits=30, test_size=0.3, random_state=0)\n",
    "```\n",
    "Les modèles d'apprentissage sont ensuite appliqués sur les échantillons des données (ex pour Logistic Regression) \n",
    "```\n",
    "cv_results = cross_validate(\n",
    "    LogisticRegression, x_train, x_test, cv=cv, scoring=\"accuracy_score\")\n",
    "```\n",
    "\n"
   ]
  },
  {
   "cell_type": "markdown",
   "metadata": {},
   "source": [
    "#  =======================ValidationCroisée======================"
   ]
  },
  {
   "cell_type": "code",
   "execution_count": 15,
   "metadata": {},
   "outputs": [],
   "source": [
    "from sklearn.model_selection import cross_validate\n",
    "from sklearn.model_selection import ShuffleSplit"
   ]
  },
  {
   "cell_type": "markdown",
   "metadata": {},
   "source": [
    "Logistique Regression"
   ]
  },
  {
   "cell_type": "code",
   "execution_count": 16,
   "metadata": {},
   "outputs": [
    {
     "name": "stdout",
     "output_type": "stream",
     "text": [
      "[[111  42]\n",
      " [ 24  54]]\n",
      "0.7142857142857143\n"
     ]
    }
   ],
   "source": [
    "#subdivision des données en 30 échantillons\n",
    "cv = ShuffleSplit(n_splits=10, test_size=0.3, random_state=0)\n",
    "for train_index, test_index in cv.split(x_normalized):\n",
    "#print(\"Train :\", train_index, \"Test :\", test_index)\n",
    "        x_train=x[train_index]\n",
    "        y_train=y[train_index]\n",
    "        x_test=x[test_index]\n",
    "        y_test=y[test_index]\n",
    "        lr = LogisticRegression(solver=\"liblinear\", class_weight=\"balanced\")\n",
    "        lr.fit(x_train,y_train)\n",
    "        y_pred_cv_lr=lr.predict(x_test)\n",
    "        cm_cv_lr = metrics.confusion_matrix(y_test, y_pred_cv_lr)\n",
    "print(cm_cv_lr)\n",
    "acc_cv_lr = metrics.accuracy_score(y_pred_cv_lr,y_test)\n",
    "print(acc_cv_lr)"
   ]
  },
  {
   "cell_type": "code",
   "execution_count": 17,
   "metadata": {},
   "outputs": [
    {
     "data": {
      "image/png": "[encoded data removed]",
      "text/plain": [
       "<Figure size 432x288 with 2 Axes>"
      ]
     },
     "metadata": {
      "needs_background": "light"
     },
     "output_type": "display_data"
    }
   ],
   "source": [
    "graphe_cm_cv_lr=sns.heatmap(cm_cv_lr,annot=True)"
   ]
  },
  {
   "cell_type": "markdown",
   "metadata": {},
   "source": [
    "SVM"
   ]
  },
  {
   "cell_type": "code",
   "execution_count": 18,
   "metadata": {},
   "outputs": [
    {
     "name": "stdout",
     "output_type": "stream",
     "text": [
      "[[80 73]\n",
      " [18 60]]\n",
      "0.6060606060606061\n"
     ]
    },
    {
     "name": "stderr",
     "output_type": "stream",
     "text": [
      "C:\\Users\\lenovo\\Anaconda3\\lib\\site-packages\\sklearn\\svm\\_base.py:977: ConvergenceWarning: Liblinear failed to converge, increase the number of iterations.\n",
      "  \"the number of iterations.\", ConvergenceWarning)\n"
     ]
    }
   ],
   "source": [
    "svc= LinearSVC()\n",
    "model_cv_svc=svc.fit(x_train, y_train)\n",
    "#appliquer le modèle sur les données tesb\n",
    "y_pred_cv_svc=model_cv_svc.predict(x_test)\n",
    "cm_cv_svc = metrics.confusion_matrix(y_test,y_pred_cv_svc)\n",
    "acc_cv_svc = metrics.accuracy_score(y_pred_cv_svc,y_test)\n",
    "print(cm_cv_svc)\n",
    "print(acc_cv_svc)"
   ]
  },
  {
   "cell_type": "code",
   "execution_count": 19,
   "metadata": {},
   "outputs": [
    {
     "data": {
      "image/png": "[encoded data removed]",
      "text/plain": [
       "<Figure size 432x288 with 2 Axes>"
      ]
     },
     "metadata": {
      "needs_background": "light"
     },
     "output_type": "display_data"
    }
   ],
   "source": [
    "graphe_cm_cv_svc=sns.heatmap(cm_cv_svc,annot=True)"
   ]
  },
  {
   "cell_type": "markdown",
   "metadata": {},
   "source": [
    "Decison Tree"
   ]
  },
  {
   "cell_type": "code",
   "execution_count": 20,
   "metadata": {},
   "outputs": [
    {
     "name": "stdout",
     "output_type": "stream",
     "text": [
      "[[114  39]\n",
      " [ 33  45]]\n",
      "0.6883116883116883\n"
     ]
    }
   ],
   "source": [
    "dt = DecisionTreeClassifier()\n",
    "model_cv_dt = dt.fit(x_train, y_train)\n",
    "y_pred_cv_dt = model_cv_dt.predict(x_test)\n",
    "acc_cv_dt = metrics.accuracy_score(y_pred_cv_dt,y_test)\n",
    "cm_cv_dt = metrics.confusion_matrix(y_test,y_pred_cv_dt)\n",
    "print(cm_cv_dt)\n",
    "print(acc_cv_dt)"
   ]
  },
  {
   "cell_type": "code",
   "execution_count": 21,
   "metadata": {},
   "outputs": [
    {
     "data": {
      "image/png": "[encoded data removed]",
      "text/plain": [
       "<Figure size 432x288 with 2 Axes>"
      ]
     },
     "metadata": {
      "needs_background": "light"
     },
     "output_type": "display_data"
    }
   ],
   "source": [
    "graphe_cm_cv_dt=sns.heatmap(cm_cv_dt,annot=True)"
   ]
  },
  {
   "cell_type": "markdown",
   "metadata": {},
   "source": [
    "Forest Aleatoire"
   ]
  },
  {
   "cell_type": "code",
   "execution_count": 22,
   "metadata": {},
   "outputs": [
    {
     "name": "stdout",
     "output_type": "stream",
     "text": [
      "[[129  32]\n",
      " [ 24  46]]\n",
      "0.7575757575757576\n"
     ]
    }
   ],
   "source": [
    "rf = RandomForestClassifier()\n",
    "model_cv_rf = rf.fit(x_train,y_train)\n",
    "y_pred_cv_rf = model_cv_rf.predict(x_test)\n",
    "acc_cv_rf = metrics.accuracy_score(y_test,y_pred_cv_rf)\n",
    "cm_cv_rf = metrics.confusion_matrix(y_pred_cv_rf,y_test)\n",
    "print(cm_cv_rf)\n",
    "print(acc_cv_rf)"
   ]
  },
  {
   "cell_type": "code",
   "execution_count": 23,
   "metadata": {},
   "outputs": [
    {
     "data": {
      "image/png": "[encoded data removed]",
      "text/plain": [
       "<Figure size 432x288 with 2 Axes>"
      ]
     },
     "metadata": {
      "needs_background": "light"
     },
     "output_type": "display_data"
    }
   ],
   "source": [
    "graphe_cm_cv_rf=sns.heatmap(cm_cv_rf,annot=True)"
   ]
  },
  {
   "cell_type": "code",
   "execution_count": 24,
   "metadata": {},
   "outputs": [
    {
     "name": "stdout",
     "output_type": "stream",
     "text": [
      "[0.7142857142857143, 0.6060606060606061, 0.6883116883116883, 0.7575757575757576]\n"
     ]
    }
   ],
   "source": [
    "List_des_scores_cv = []\n",
    "List_des_scores_cv.append(acc_cv_lr)\n",
    "List_des_scores_cv.append(acc_cv_svc)\n",
    "List_des_scores_cv.append(acc_cv_dt)\n",
    "List_des_scores_cv.append(acc_cv_rf)\n",
    "print(List_des_scores_cv)"
   ]
  },
  {
   "cell_type": "code",
   "execution_count": 25,
   "metadata": {},
   "outputs": [],
   "source": [
    "Les_scores_cv = List_des_scores_cv\n",
    "nom_de_cv_x = ['score_lr1','score_dt','score_rf','score_svc']"
   ]
  },
  {
   "cell_type": "code",
   "execution_count": 26,
   "metadata": {},
   "outputs": [
    {
     "data": {
      "text/plain": [
       "[<matplotlib.lines.Line2D at 0x28b0e755348>]"
      ]
     },
     "execution_count": 26,
     "metadata": {},
     "output_type": "execute_result"
    },
    {
     "data": {
      "image/png": "[encoded data removed]",
      "text/plain": [
       "<Figure size 432x288 with 1 Axes>"
      ]
     },
     "metadata": {
      "needs_background": "light"
     },
     "output_type": "display_data"
    }
   ],
   "source": [
    "plt.plot(nom_de_cv_x,Les_scores_cv)"
   ]
  },
  {
   "cell_type": "markdown",
   "metadata": {},
   "source": [
    "# ==============Réduction de dimension(PCA)================"
   ]
  },
  {
   "cell_type": "markdown",
   "metadata": {},
   "source": [
    "# dt_PCA "
   ]
  },
  {
   "cell_type": "code",
   "execution_count": 27,
   "metadata": {},
   "outputs": [
    {
     "name": "stdout",
     "output_type": "stream",
     "text": [
      "[[ 0.12631788  0.39243328  0.35947089  0.44054292  0.43683384  0.45215652\n",
      "   0.27060956  0.1955599 ]\n",
      " [ 0.59404237  0.17528237  0.18550652 -0.33140493 -0.24788907 -0.09918102\n",
      "  -0.12154879  0.6213597 ]\n",
      " [-0.01373196  0.46859457 -0.53520861 -0.23837958  0.33708345 -0.36182269\n",
      "   0.43221831  0.0748592 ]\n",
      " [ 0.08158945 -0.40414775  0.05653763  0.03677036 -0.34804809  0.05305254\n",
      "   0.83449461  0.07159535]\n",
      " [-0.47535915  0.46613059  0.32772515 -0.48726778 -0.34781321  0.2542284\n",
      "   0.11966157 -0.10953212]]\n"
     ]
    }
   ],
   "source": [
    "print(pca.components_)"
   ]
  },
  {
   "cell_type": "code",
   "execution_count": 28,
   "metadata": {},
   "outputs": [
    {
     "name": "stdout",
     "output_type": "stream",
     "text": [
      "[[155  44]\n",
      " [ 46  55]]\n",
      "0.7\n"
     ]
    }
   ],
   "source": [
    "dt = DecisionTreeClassifier()\n",
    "model_pca_dt = dt.fit(x_train_pca, y_train_pca)\n",
    "y_pred_pca_dt = model_pca_dt.predict(x_test_pca)\n",
    "acc_pca_dt = metrics.accuracy_score(y_pred_pca_dt,y_test_pca)\n",
    "cm_pca_dt = metrics.confusion_matrix(y_test_pca,y_pred_pca_dt)\n",
    "print(cm_pca_dt)\n",
    "print(acc_pca_dt)"
   ]
  },
  {
   "cell_type": "code",
   "execution_count": 29,
   "metadata": {},
   "outputs": [
    {
     "name": "stdout",
     "output_type": "stream",
     "text": [
      "[[155  44]\n",
      " [ 46  55]]\n",
      "0.7\n",
      "[[154  45]\n",
      " [ 46  55]]\n",
      "0.6966666666666667\n"
     ]
    }
   ],
   "source": [
    "print(cm_pca_dt)\n",
    "print(acc_pca_dt)\n",
    "\n",
    "print(matrix_dt)\n",
    "print(score_dt)"
   ]
  },
  {
   "cell_type": "markdown",
   "metadata": {},
   "source": [
    "# lr_PCA"
   ]
  },
  {
   "cell_type": "code",
   "execution_count": 30,
   "metadata": {},
   "outputs": [
    {
     "name": "stdout",
     "output_type": "stream",
     "text": [
      "[[151  48]\n",
      " [ 27  74]]\n",
      "0.75\n"
     ]
    }
   ],
   "source": [
    "model_pca_lr = lr.fit(x_train_pca, y_train_pca)\n",
    "y_pred_pca_lr = model_pca_lr.predict(x_test_pca)\n",
    "acc_pca_lr = metrics.accuracy_score(y_pred_pca_lr,y_test_pca)\n",
    "cm_pca_lr = metrics.confusion_matrix(y_test_pca,y_pred_pca_lr)\n",
    "print(cm_pca_lr)\n",
    "print(acc_pca_lr)"
   ]
  },
  {
   "cell_type": "code",
   "execution_count": 31,
   "metadata": {},
   "outputs": [
    {
     "name": "stdout",
     "output_type": "stream",
     "text": [
      "[[151  48]\n",
      " [ 27  74]]\n",
      "0.75\n",
      "[[184  15]\n",
      " [ 52  49]]\n",
      "0.7766666666666666\n"
     ]
    }
   ],
   "source": [
    "print(cm_pca_lr)\n",
    "print(acc_pca_lr)\n",
    "\n",
    "print(matrix_LR1)\n",
    "print(model_lr1_score)"
   ]
  },
  {
   "cell_type": "markdown",
   "metadata": {},
   "source": [
    "# rf_PCA"
   ]
  },
  {
   "cell_type": "code",
   "execution_count": 32,
   "metadata": {},
   "outputs": [
    {
     "name": "stdout",
     "output_type": "stream",
     "text": [
      "[[162  37]\n",
      " [ 44  57]]\n",
      "0.73\n"
     ]
    }
   ],
   "source": [
    "model_pca_rf = rf.fit(x_train_pca, y_train_pca)\n",
    "y_pred_pca_rf = model_pca_rf.predict(x_test_pca)\n",
    "acc_pca_rf = metrics.accuracy_score(y_pred_pca_rf,y_test_pca)\n",
    "cm_pca_rf = metrics.confusion_matrix(y_test_pca,y_pred_pca_rf)\n",
    "print(cm_pca_rf)\n",
    "print(acc_pca_rf)"
   ]
  },
  {
   "cell_type": "code",
   "execution_count": 33,
   "metadata": {},
   "outputs": [
    {
     "name": "stdout",
     "output_type": "stream",
     "text": [
      "[[171  41]\n",
      " [ 28  60]]\n",
      "0.77\n"
     ]
    }
   ],
   "source": [
    "print(matrix_rf)\n",
    "print(score_rf)"
   ]
  },
  {
   "cell_type": "markdown",
   "metadata": {},
   "source": [
    "# svm_PCA"
   ]
  },
  {
   "cell_type": "code",
   "execution_count": 34,
   "metadata": {},
   "outputs": [
    {
     "name": "stdout",
     "output_type": "stream",
     "text": [
      "[[198   1]\n",
      " [ 96   5]]\n",
      "0.6766666666666666\n"
     ]
    },
    {
     "name": "stderr",
     "output_type": "stream",
     "text": [
      "C:\\Users\\lenovo\\Anaconda3\\lib\\site-packages\\sklearn\\svm\\_base.py:977: ConvergenceWarning: Liblinear failed to converge, increase the number of iterations.\n",
      "  \"the number of iterations.\", ConvergenceWarning)\n"
     ]
    }
   ],
   "source": [
    "model_pca_svc = svc.fit(x_train_pca, y_train_pca)\n",
    "y_pred_pca_svc = model_pca_svc.predict(x_test_pca)\n",
    "acc_pca_svc = metrics.accuracy_score(y_pred_pca_svc,y_test_pca)\n",
    "cm_pca_svc = metrics.confusion_matrix(y_test_pca,y_pred_pca_svc)\n",
    "print(cm_pca_svc)\n",
    "print(acc_pca_svc)"
   ]
  },
  {
   "cell_type": "code",
   "execution_count": 35,
   "metadata": {},
   "outputs": [
    {
     "name": "stdout",
     "output_type": "stream",
     "text": [
      "[[176  44]\n",
      " [ 23  57]]\n",
      "0.7766666666666666\n"
     ]
    }
   ],
   "source": [
    "print(matrix_svc)\n",
    "print(svc_score)"
   ]
  },
  {
   "cell_type": "markdown",
   "metadata": {},
   "source": [
    "# Ensemble d'apprentissage"
   ]
  },
  {
   "cell_type": "markdown",
   "metadata": {},
   "source": [
    "Creation d'un ensemble d'apprentissage"
   ]
  },
  {
   "cell_type": "code",
   "execution_count": 36,
   "metadata": {},
   "outputs": [
    {
     "name": "stderr",
     "output_type": "stream",
     "text": [
      "C:\\Users\\lenovo\\Anaconda3\\lib\\site-packages\\sklearn\\linear_model\\_logistic.py:764: ConvergenceWarning: lbfgs failed to converge (status=1):\n",
      "STOP: TOTAL NO. of ITERATIONS REACHED LIMIT.\n",
      "\n",
      "Increase the number of iterations (max_iter) or scale the data as shown in:\n",
      "    https://scikit-learn.org/stable/modules/preprocessing.html\n",
      "Please also refer to the documentation for alternative solver options:\n",
      "    https://scikit-learn.org/stable/modules/linear_model.html#logistic-regression\n",
      "  extra_warning_msg=_LOGISTIC_SOLVER_CONVERGENCE_MSG)\n",
      "C:\\Users\\lenovo\\Anaconda3\\lib\\site-packages\\sklearn\\svm\\_base.py:977: ConvergenceWarning: Liblinear failed to converge, increase the number of iterations.\n",
      "  \"the number of iterations.\", ConvergenceWarning)\n"
     ]
    }
   ],
   "source": [
    "n_estimators = 68\n",
    "from sklearn.ensemble import VotingClassifier\n",
    "from sklearn import neighbors\n",
    "knn = neighbors.KNeighborsClassifier()\n",
    "from sklearn.ensemble import BaggingClassifier\n",
    "lr = LogisticRegression()\n",
    "rf = RandomForestClassifier()\n",
    "svc = LinearSVC()\n",
    "dt = DecisionTreeClassifier()\n",
    "bg = BaggingClassifier()\n",
    "voting_cl = VotingClassifier(\n",
    "    estimators=[('dt',dt),('lr',lr),('rf',rf),('svc',svc),('knn',knn),('bg',bg)],\n",
    "    voting = 'hard')\n",
    "model_vot_cl = voting_cl.fit(x_train,y_train)"
   ]
  },
  {
   "cell_type": "code",
   "execution_count": 37,
   "metadata": {},
   "outputs": [
    {
     "name": "stderr",
     "output_type": "stream",
     "text": [
      "C:\\Users\\lenovo\\Anaconda3\\lib\\site-packages\\sklearn\\linear_model\\_logistic.py:764: ConvergenceWarning: lbfgs failed to converge (status=1):\n",
      "STOP: TOTAL NO. of ITERATIONS REACHED LIMIT.\n",
      "\n",
      "Increase the number of iterations (max_iter) or scale the data as shown in:\n",
      "    https://scikit-learn.org/stable/modules/preprocessing.html\n",
      "Please also refer to the documentation for alternative solver options:\n",
      "    https://scikit-learn.org/stable/modules/linear_model.html#logistic-regression\n",
      "  extra_warning_msg=_LOGISTIC_SOLVER_CONVERGENCE_MSG)\n",
      "C:\\Users\\lenovo\\Anaconda3\\lib\\site-packages\\sklearn\\svm\\_base.py:977: ConvergenceWarning: Liblinear failed to converge, increase the number of iterations.\n",
      "  \"the number of iterations.\", ConvergenceWarning)\n",
      "C:\\Users\\lenovo\\Anaconda3\\lib\\site-packages\\sklearn\\linear_model\\_logistic.py:764: ConvergenceWarning: lbfgs failed to converge (status=1):\n",
      "STOP: TOTAL NO. of ITERATIONS REACHED LIMIT.\n",
      "\n",
      "Increase the number of iterations (max_iter) or scale the data as shown in:\n",
      "    https://scikit-learn.org/stable/modules/preprocessing.html\n",
      "Please also refer to the documentation for alternative solver options:\n",
      "    https://scikit-learn.org/stable/modules/linear_model.html#logistic-regression\n",
      "  extra_warning_msg=_LOGISTIC_SOLVER_CONVERGENCE_MSG)\n"
     ]
    },
    {
     "name": "stdout",
     "output_type": "stream",
     "text": [
      "LogisticRegression 0.7575757575757576\n",
      "DecisionTreeClassifier 0.7056277056277056\n",
      "LinearSVC 0.6190476190476191\n",
      "KNeighborsClassifier 0.7359307359307359\n",
      "BaggingClassifier 0.7532467532467533\n",
      "VotingClassifier 0.7489177489177489\n"
     ]
    },
    {
     "name": "stderr",
     "output_type": "stream",
     "text": [
      "C:\\Users\\lenovo\\Anaconda3\\lib\\site-packages\\sklearn\\svm\\_base.py:977: ConvergenceWarning: Liblinear failed to converge, increase the number of iterations.\n",
      "  \"the number of iterations.\", ConvergenceWarning)\n"
     ]
    }
   ],
   "source": [
    "#exactitude de chacun des classifieurs sur le jeu d'entrainement\n",
    "from sklearn.metrics import accuracy_score\n",
    "for clf in (lr,dt,svc,knn,bg,voting_cl):\n",
    "    clf.fit(x_train, y_train)\n",
    "    y_pred = clf.predict(x_test)\n",
    "    print(clf.__class__.__name__, accuracy_score(y_test, y_pred))\n"
   ]
  },
  {
   "cell_type": "code",
   "execution_count": null,
   "metadata": {},
   "outputs": [],
   "source": []
  },
  {
   "cell_type": "code",
   "execution_count": null,
   "metadata": {},
   "outputs": [],
   "source": []
  }
 ],
 "metadata": {
  "colab": {
   "collapsed_sections": [],
   "name": "TDClassificationPima.ipynb",
   "provenance": [],
   "toc_visible": true
  },
  "kernelspec": {
   "display_name": "Python 3",
   "language": "python",
   "name": "python3"
  },
  "language_info": {
   "codemirror_mode": {
    "name": "ipython",
    "version": 3
   },
   "file_extension": ".py",
   "mimetype": "text/x-python",
   "name": "python",
   "nbconvert_exporter": "python",
   "pygments_lexer": "ipython3",
   "version": "3.7.4"
  }
 },
 "nbformat": 4,
 "nbformat_minor": 1
}
